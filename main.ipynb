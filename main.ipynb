{
 "cells": [
  {
   "cell_type": "code",
   "execution_count": 2,
   "metadata": {},
   "outputs": [],
   "source": [
    "import binascii\n",
    "\n",
    "def xor_bytes(a, b):\n",
    "    \"\"\"XOR two byte sequences.\"\"\"\n",
    "    return bytes(x ^ y for x, y in zip(a, b))\n",
    "\n",
    "\n",
    "# Given ciphertexts (hex-encoded)\n",
    "ciphertexts_hex = [\n",
    "    \"315c4eeaa8b5f8aaf9174145bf43e1784b8fa00dc71d885a804e5ee9fa40b16349c146fb778cdf2d3aff021dfff5b403b510d0d0455468aeb98622b137dae857553ccd8883a7bc37520e06e515d22c954eba5025b8cc57ee59418ce7dc6bc41556bdb36bbca3e8774301fbcaa3b83b220809560987815f65286764703de0f3d524400a19b159610b11ef3e\",\n",
    "    \"234c02ecbbfbafa3ed18510abd11fa724fcda2018a1a8342cf064bbde548b12b07df44ba7191d9606ef4081ffde5ad46a5069d9f7f543bedb9c861bf29c7e205132eda9382b0bc2c5c4b45f919cf3a9f1cb74151f6d551f4480c82b2cb24cc5b028aa76eb7b4ab24171ab3cdadb8356f\",\n",
    "    \"32510ba9a7b2bba9b8005d43a304b5714cc0bb0c8a34884dd91304b8ad40b62b07df44ba6e9d8a2368e51d04e0e7b207b70b9b8261112bacb6c866a232dfe257527dc29398f5f3251a0d47e503c66e935de81230b59b7afb5f41afa8d661cb\",\n",
    "    \"466d06ece998b7a2fb1d464fed2ced7641ddaa3cc31c9941cf110abbf409ed39598005b3399ccfafb61d0315fca0a314be138a9f32503bedac8067f03adbf3575c3b8edc9ba7f537530541ab0f9f3cd04ff50d66f1d559ba520e89a2cb2a83\",\n",
    "    \"32510ba9babebbbefd001547a810e67149caee11d945cd7fc81a05e9f85aac650e9052ba6a8cd8257bf14d13e6f0a803b54fde9e77472dbff89d71b57bddef121336cb85ccb8f3315f4b52e301d16e9f52f904\"\n",
    "]\n",
    "\n",
    "# Convert hex-encoded ciphertexts to bytes\n",
    "ciphertexts = [binascii.unhexlify(ct) for ct in ciphertexts_hex]\n",
    "\n",
    "\n",
    "target_ciphertext = ciphertexts[-1]\n",
    "ciphertexts = ciphertexts[:-1]  "
   ]
  },
  {
   "cell_type": "code",
   "execution_count": 3,
   "metadata": {},
   "outputs": [],
   "source": [
    "#XOR multiple ciphertexts\n",
    "key_stream = bytearray(len(target_ciphertext))\n",
    "\n",
    "for ct in ciphertexts:\n",
    "    xored_with_target = xor_bytes(ct[:len(target_ciphertext)], target_ciphertext)\n",
    "    for i, byte in enumerate(xored_with_target):\n",
    "            if 65 <= byte <= 90 or 97 <= byte <= 122:  # Check if the XOR output is a letter\n",
    "                key_stream[i] = ct[i] ^ ord(' ')  # Infer key byte assuming original plaintext had a space\n"
   ]
  },
  {
   "cell_type": "code",
   "execution_count": 4,
   "metadata": {},
   "outputs": [
    {
     "name": "stdout",
     "output_type": "stream",
     "text": [
      "Decrypted Message: TQeesec_e_smessqIed_syt_htnrusanwowas_rea_n__p_e_dtnevertusea__eokeywmo1enth_nronne\n"
     ]
    }
   ],
   "source": [
    "# Decrypt target ciphertext using the inferred key\n",
    "decrypted_target = xor_bytes(target_ciphertext, key_stream)\n",
    "\n",
    "decrypted_message = \"\".join(chr(b) if 32 <= b <= 126 else \"_\" for b in decrypted_target)\n",
    "\n",
    "print(\"Decrypted Message:\", decrypted_message)\n"
   ]
  }
 ],
 "metadata": {
  "kernelspec": {
   "display_name": "base",
   "language": "python",
   "name": "python3"
  },
  "language_info": {
   "codemirror_mode": {
    "name": "ipython",
    "version": 3
   },
   "file_extension": ".py",
   "mimetype": "text/x-python",
   "name": "python",
   "nbconvert_exporter": "python",
   "pygments_lexer": "ipython3",
   "version": "3.9.13"
  }
 },
 "nbformat": 4,
 "nbformat_minor": 2
}
